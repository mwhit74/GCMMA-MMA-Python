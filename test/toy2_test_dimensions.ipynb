{
 "cells": [
  {
   "cell_type": "code",
   "execution_count": 7,
   "id": "29e0206a-261f-4e31-9f8a-8c4718da58dd",
   "metadata": {
    "tags": []
   },
   "outputs": [
    {
     "name": "stdout",
     "output_type": "stream",
     "text": [
      "[[1]\n",
      " [1]\n",
      " [1]]\n",
      "(3, 1)\n",
      "\n",
      "3\n",
      "()\n",
      "\n",
      "[[2]\n",
      " [2]\n",
      " [2]]\n",
      "(3, 1)\n",
      "\n",
      "[[8]\n",
      " [8]]\n",
      "(2, 1)\n",
      "\n",
      "[[-8 -2  0]\n",
      " [-4 -6 -4]]\n",
      "(2, 3)\n"
     ]
    }
   ],
   "source": [
    "import numpy as np\n",
    "\n",
    "def toy2(xval):\n",
    "    f0val = xval[0][0]**2+xval[1][0]**2+xval[2][0]**2\n",
    "    df0dx = 2*xval\n",
    "    fval1 = ((xval.T-np.array([[5, 2, 1]]))**2).sum()-9\n",
    "    fval2 = ((xval.T-np.array([[3, 4, 3]]))**2).sum()-9\n",
    "    fval = np.array([[fval1,fval2]]).T\n",
    "    dfdx1 = 2*(xval.T-np.array([[5, 2, 1]]))\n",
    "    dfdx2 = 2*(xval.T-np.array([[3, 4, 3]]))\n",
    "    dfdx = np.concatenate((dfdx1,dfdx2))\n",
    "    return f0val,df0dx,fval,dfdx\n",
    "\n",
    "xval = np.array([[1,1,1]]).T\n",
    "print(xval)\n",
    "print(xval.shape)\n",
    "print()\n",
    "\n",
    "f0val,df0dx,fval,dfdx = toy2(xval)\n",
    "print(f0val)\n",
    "print(f0val.shape)\n",
    "print()\n",
    "print(df0dx)\n",
    "print(df0dx.shape)\n",
    "print()\n",
    "print(fval)\n",
    "print(fval.shape)\n",
    "print()\n",
    "print(dfdx)\n",
    "print(dfdx.shape)\n"
   ]
  }
 ],
 "metadata": {
  "kernelspec": {
   "display_name": "Python 3 (ipykernel)",
   "language": "python",
   "name": "python3"
  },
  "language_info": {
   "codemirror_mode": {
    "name": "ipython",
    "version": 3
   },
   "file_extension": ".py",
   "mimetype": "text/x-python",
   "name": "python",
   "nbconvert_exporter": "python",
   "pygments_lexer": "ipython3",
   "version": "3.10.4"
  }
 },
 "nbformat": 4,
 "nbformat_minor": 5
}
